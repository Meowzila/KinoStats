{
 "cells": [
  {
   "cell_type": "markdown",
   "id": "98ae040f-d61b-4252-86d1-c98e7e979172",
   "metadata": {},
   "source": [
    "### Connecting to the PostgreSQL Database"
   ]
  },
  {
   "cell_type": "code",
   "execution_count": 1,
   "id": "1ec5dffc-ef5f-40fe-a823-d4c584e909e8",
   "metadata": {},
   "outputs": [],
   "source": [
    "# Connect to local postgresql database\n",
    "import pandas as pd\n",
    "import numpy as np\n",
    "import psycopg2\n",
    "import os\n",
    "import matplotlib.pyplot as plt\n",
    "import seaborn as sns\n",
    "import matplotlib.patches as mpatches\n",
    "from dotenv import load_dotenv\n",
    "load_dotenv()\n",
    "\n",
    "pgconn = psycopg2.connect(\n",
    "    host=\"localhost\",\n",
    "    user=\"postgres\",\n",
    "    password=os.getenv('PASSWORD'))\n",
    "\n",
    "pgcursor = pgconn.cursor()\n",
    "\n",
    "from sqlalchemy import create_engine\n",
    "password=os.getenv('PASSWORD')\n",
    "engine = create_engine('postgresql+psycopg2://postgres:' + password + '@localhost/kinodb')"
   ]
  },
  {
   "cell_type": "markdown",
   "id": "79a3c873-925f-442e-b8b2-869d82e49c9c",
   "metadata": {},
   "source": [
    "### Querying the Database"
   ]
  },
  {
   "cell_type": "code",
   "execution_count": null,
   "id": "389095d0-4f48-438b-99c0-63f3a06a7b9d",
   "metadata": {},
   "outputs": [],
   "source": [
    "# Query Example using Python for-loop and f-strings to send multiple queries\n",
    "years = [2010, 2011, 2012, 2013, 2014]\n",
    "counts = []\n",
    "\n",
    "for year in years:\n",
    "    count = pd.read_sql_query(f\"\"\"SELECT COUNT(*) FROM public.films WHERE year = {year}\"\"\", engine)\n",
    "    counts.append({'years': year, 'count': count['count'][0]})\n",
    "\n",
    "df = pd.DataFrame.from_records(counts)"
   ]
  },
  {
   "cell_type": "code",
   "execution_count": null,
   "id": "78de779f-3604-481e-9b64-8ade155f414b",
   "metadata": {},
   "outputs": [],
   "source": [
    "# Simple Data Visualization using Matplotlib/Seaborn of queried data\n",
    "labels = list(df['years'])\n",
    "data = list(df['count'])\n",
    "plt.pie(data, labels = labels, colors=sns.color_palette('pastel')[0:5], autopct='%.0f%%')\n",
    "plt.show()"
   ]
  },
  {
   "cell_type": "markdown",
   "id": "d532013b-65e2-44c0-9139-1dd957992db2",
   "metadata": {},
   "source": [
    "# Query Examples Through Pandas"
   ]
  },
  {
   "cell_type": "markdown",
   "id": "8937a6fe-b436-4f31-b017-908afb30d2fc",
   "metadata": {},
   "source": [
    "### Directors Who Played a Role in their films"
   ]
  },
  {
   "cell_type": "code",
   "execution_count": null,
   "id": "095dfcd2-5a57-4c5f-a173-04677cc9d938",
   "metadata": {},
   "outputs": [],
   "source": [
    "# Alright, so here's a query that shows every film in which the Director also played a role as an actor\n",
    "df = pd.read_sql_query(f\"\"\"\n",
    "    SELECT DISTINCT film_name, director, actor \n",
    "    FROM public.films\n",
    "    INNER JOIN actors ON actorid = id\n",
    "    WHERE REPLACE(LOWER(director), ' ', '-') = actor\"\"\"\n",
    "                       , engine)\n",
    "\n",
    "display(df)\n",
    "print(f'There are {len(df)} results!')"
   ]
  },
  {
   "cell_type": "markdown",
   "id": "88799395-2114-430f-acd6-f6074d98f9c2",
   "metadata": {},
   "source": [
    "### Directors Who Played A Role in their Film (with ratings)"
   ]
  },
  {
   "cell_type": "code",
   "execution_count": null,
   "id": "f94c9182-2270-4be0-9be7-c6165d4c3f81",
   "metadata": {},
   "outputs": [],
   "source": [
    "# Let's sort out the films that actually have ratings attached to them (more mainstream titles) and sort by descending rating\n",
    "df = pd.read_sql_query(f\"\"\"\n",
    "\n",
    "    SELECT DISTINCT film_name, director, actor, rating FROM public.films\n",
    "    INNER JOIN actors ON actorid = id\n",
    "    WHERE REPLACE(LOWER(director), ' ', '-') = actor and rating > 0\n",
    "    ORDER BY rating DESC\n",
    "    \n",
    "    \"\"\", engine)\n",
    "display(df)\n",
    "\n",
    "print(f'Now there are {len(df)} results!')"
   ]
  },
  {
   "cell_type": "markdown",
   "id": "65a5a136-5a2f-4b94-8d45-2929aec55601",
   "metadata": {},
   "source": [
    "### Quentin Tarantino Examples"
   ]
  },
  {
   "cell_type": "code",
   "execution_count": null,
   "id": "74ebae81-c620-4a85-b74f-8d48a7677491",
   "metadata": {},
   "outputs": [],
   "source": [
    "# That's pretty neat. Now we look at a specific Director...how many films has Quentin Tarantino casted himself in?\n",
    "df_casted = pd.read_sql_query(f\"\"\"\n",
    "\n",
    "    SELECT * FROM public.films\n",
    "    INNER JOIN actors ON actorid = id\n",
    "    WHERE REPLACE(LOWER(director), ' ', '-') = actor and rating > 0 and director = 'Quentin Tarantino'\n",
    "    \n",
    "    \"\"\", engine)\n",
    "display(df_casted)\n",
    "#print(f'Quentin Tarantino has casted himself in {df_casted[\"count\"][0]} movies that he also directed.')"
   ]
  },
  {
   "cell_type": "code",
   "execution_count": null,
   "id": "2ba08bb3-d1e9-4bc2-b066-aff541b15f6b",
   "metadata": {},
   "outputs": [],
   "source": [
    "# But, out of how many total films directed has he also starred in?\n",
    "df_total = pd.read_sql_query(f\"\"\"\n",
    "    SELECT COUNT(*) FROM public.films\n",
    "    WHERE director = 'Quentin Tarantino'\"\"\"\n",
    "                       , engine)\n",
    "\n",
    "display(df_total)\n",
    "print(f'Quentin Tarantino has directed a total of {df_total[\"count\"][0]} movies.')"
   ]
  },
  {
   "cell_type": "code",
   "execution_count": null,
   "id": "1a5e206b-e85d-44cc-93ab-407bfb23167a",
   "metadata": {},
   "outputs": [],
   "source": [
    "# So in total...\n",
    "df_comp = pd.read_sql_query(f\"\"\"SELECT ROUND({df_casted[\"count\"][0]/df_total[\"count\"][0]}, 3)*100\"\"\", engine)\n",
    "\n",
    "print(f'Quentin Tarantino has played an acting role in {df_casted[\"count\"][0]} out of his {df_total[\"count\"][0]} total directed films ({df_comp[\"?column?\"][0]}%).')"
   ]
  },
  {
   "cell_type": "markdown",
   "id": "ae3be511-fef3-4e11-a8e6-8c63abedc7af",
   "metadata": {},
   "source": [
    "### Top 10 Director/Actor Films"
   ]
  },
  {
   "cell_type": "code",
   "execution_count": null,
   "id": "bf1d8a4b-93b8-4c90-a099-9e8771c4c590",
   "metadata": {},
   "outputs": [],
   "source": [
    "# We can also look at the top 10 director/actor films overall\n",
    "df = pd.read_sql_query(f\"\"\"\n",
    "\n",
    "    SELECT director, count(director) FROM public.films\n",
    "    INNER JOIN actors ON actorid = id\n",
    "    WHERE REPLACE(LOWER(director), ' ', '-') = actor and rating > 0\n",
    "    GROUP BY director\n",
    "    ORDER BY COUNT(director) DESC\n",
    "    LIMIT 10\n",
    "    \n",
    "    \"\"\", engine)\n",
    "display(df)"
   ]
  },
  {
   "cell_type": "code",
   "execution_count": null,
   "id": "3e4aeec2-1772-4aec-8145-a4d6115324ed",
   "metadata": {},
   "outputs": [],
   "source": [
    "# And with Seaborn/matplotlib...\n",
    "directors = list(df['director'])\n",
    "num_films = list(df['count'])\n",
    "figure = sns.barplot(x=directors, y=num_films)\n",
    "figure.set_xticklabels(figure.get_xticklabels(), rotation=45, horizontalalignment='right')\n",
    "figure.set_title('Top 10 Directors Who Also Played Roles in Their Films')\n",
    "figure.set_ylabel('Number of Films')\n",
    "plt.show()"
   ]
  },
  {
   "cell_type": "markdown",
   "id": "2711324c-2a27-491f-a7ab-892b0d6bc8b2",
   "metadata": {},
   "source": [
    "### Action Movies in the Last 10 Years"
   ]
  },
  {
   "cell_type": "code",
   "execution_count": null,
   "id": "14c9f519-f0f4-4f89-ab7a-e91de7480a42",
   "metadata": {},
   "outputs": [],
   "source": [
    "df = pd.read_sql_query(f\"\"\"\n",
    "    SELECT year, count(year) FROM public.films\n",
    "    INNER JOIN genres ON genreid = id\n",
    "    WHERE genre = 'action' and country = 'usa' and rating > 0 and year BETWEEN 2010 and 2020\n",
    "    GROUP BY year\"\"\"\n",
    "                       , engine)\n",
    "\n",
    "display(df)"
   ]
  },
  {
   "cell_type": "code",
   "execution_count": null,
   "id": "42daba54-9600-4b73-87e7-61c94272e3ca",
   "metadata": {},
   "outputs": [],
   "source": [
    "# Plot action movie data\n",
    "years = list(df['year'])\n",
    "num_films = list(df['count'])\n",
    "figure = sns.barplot(x=years, y=num_films)\n",
    "figure.set_title('Action Movies Released in the U.S. from 2010 to 2020')\n",
    "figure.set_ylabel('Number of Films Released')\n",
    "plt.show()"
   ]
  },
  {
   "cell_type": "markdown",
   "id": "f56af9d6-d5c9-42d4-88ba-3173b61edbd1",
   "metadata": {},
   "source": [
    "### Animated Movies in the Last 20 Years + Linear Regression"
   ]
  },
  {
   "cell_type": "code",
   "execution_count": 2,
   "id": "0e1c8f1d-8895-42d6-8d7d-6c509b656a25",
   "metadata": {},
   "outputs": [
    {
     "data": {
      "text/html": [
       "<div>\n",
       "<style scoped>\n",
       "    .dataframe tbody tr th:only-of-type {\n",
       "        vertical-align: middle;\n",
       "    }\n",
       "\n",
       "    .dataframe tbody tr th {\n",
       "        vertical-align: top;\n",
       "    }\n",
       "\n",
       "    .dataframe thead th {\n",
       "        text-align: right;\n",
       "    }\n",
       "</style>\n",
       "<table border=\"1\" class=\"dataframe\">\n",
       "  <thead>\n",
       "    <tr style=\"text-align: right;\">\n",
       "      <th></th>\n",
       "      <th>year</th>\n",
       "      <th>count</th>\n",
       "    </tr>\n",
       "  </thead>\n",
       "  <tbody>\n",
       "    <tr>\n",
       "      <th>0</th>\n",
       "      <td>2000</td>\n",
       "      <td>33</td>\n",
       "    </tr>\n",
       "    <tr>\n",
       "      <th>1</th>\n",
       "      <td>2001</td>\n",
       "      <td>39</td>\n",
       "    </tr>\n",
       "    <tr>\n",
       "      <th>2</th>\n",
       "      <td>2002</td>\n",
       "      <td>40</td>\n",
       "    </tr>\n",
       "    <tr>\n",
       "      <th>3</th>\n",
       "      <td>2003</td>\n",
       "      <td>41</td>\n",
       "    </tr>\n",
       "    <tr>\n",
       "      <th>4</th>\n",
       "      <td>2004</td>\n",
       "      <td>54</td>\n",
       "    </tr>\n",
       "    <tr>\n",
       "      <th>5</th>\n",
       "      <td>2005</td>\n",
       "      <td>62</td>\n",
       "    </tr>\n",
       "    <tr>\n",
       "      <th>6</th>\n",
       "      <td>2006</td>\n",
       "      <td>60</td>\n",
       "    </tr>\n",
       "    <tr>\n",
       "      <th>7</th>\n",
       "      <td>2007</td>\n",
       "      <td>61</td>\n",
       "    </tr>\n",
       "    <tr>\n",
       "      <th>8</th>\n",
       "      <td>2008</td>\n",
       "      <td>64</td>\n",
       "    </tr>\n",
       "    <tr>\n",
       "      <th>9</th>\n",
       "      <td>2009</td>\n",
       "      <td>63</td>\n",
       "    </tr>\n",
       "    <tr>\n",
       "      <th>10</th>\n",
       "      <td>2010</td>\n",
       "      <td>80</td>\n",
       "    </tr>\n",
       "    <tr>\n",
       "      <th>11</th>\n",
       "      <td>2011</td>\n",
       "      <td>78</td>\n",
       "    </tr>\n",
       "    <tr>\n",
       "      <th>12</th>\n",
       "      <td>2012</td>\n",
       "      <td>77</td>\n",
       "    </tr>\n",
       "    <tr>\n",
       "      <th>13</th>\n",
       "      <td>2013</td>\n",
       "      <td>88</td>\n",
       "    </tr>\n",
       "    <tr>\n",
       "      <th>14</th>\n",
       "      <td>2014</td>\n",
       "      <td>91</td>\n",
       "    </tr>\n",
       "    <tr>\n",
       "      <th>15</th>\n",
       "      <td>2015</td>\n",
       "      <td>85</td>\n",
       "    </tr>\n",
       "    <tr>\n",
       "      <th>16</th>\n",
       "      <td>2016</td>\n",
       "      <td>102</td>\n",
       "    </tr>\n",
       "    <tr>\n",
       "      <th>17</th>\n",
       "      <td>2017</td>\n",
       "      <td>101</td>\n",
       "    </tr>\n",
       "    <tr>\n",
       "      <th>18</th>\n",
       "      <td>2018</td>\n",
       "      <td>79</td>\n",
       "    </tr>\n",
       "    <tr>\n",
       "      <th>19</th>\n",
       "      <td>2019</td>\n",
       "      <td>110</td>\n",
       "    </tr>\n",
       "    <tr>\n",
       "      <th>20</th>\n",
       "      <td>2020</td>\n",
       "      <td>92</td>\n",
       "    </tr>\n",
       "  </tbody>\n",
       "</table>\n",
       "</div>"
      ],
      "text/plain": [
       "    year  count\n",
       "0   2000     33\n",
       "1   2001     39\n",
       "2   2002     40\n",
       "3   2003     41\n",
       "4   2004     54\n",
       "5   2005     62\n",
       "6   2006     60\n",
       "7   2007     61\n",
       "8   2008     64\n",
       "9   2009     63\n",
       "10  2010     80\n",
       "11  2011     78\n",
       "12  2012     77\n",
       "13  2013     88\n",
       "14  2014     91\n",
       "15  2015     85\n",
       "16  2016    102\n",
       "17  2017    101\n",
       "18  2018     79\n",
       "19  2019    110\n",
       "20  2020     92"
      ]
     },
     "metadata": {},
     "output_type": "display_data"
    }
   ],
   "source": [
    "df = pd.read_sql_query(f\"\"\"\n",
    "    SELECT year, count(year) FROM public.films\n",
    "    INNER JOIN genres ON genreid = id\n",
    "    WHERE genre = 'animation' and country = 'usa' and rating > 0 and year BETWEEN 2000 and 2020\n",
    "    GROUP BY year\n",
    "    \"\"\", engine)\n",
    "display(df)"
   ]
  },
  {
   "cell_type": "code",
   "execution_count": 3,
   "id": "2bd92512-6899-42c7-9670-6e81af0feda6",
   "metadata": {},
   "outputs": [
    {
     "data": {
      "image/png": "[encoded data removed]",
      "text/plain": [
       "<Figure size 432x288 with 1 Axes>"
      ]
     },
     "metadata": {
      "needs_background": "light"
     },
     "output_type": "display_data"
    }
   ],
   "source": [
    "# Plot animated movie data with trendline\n",
    "years = list(df['year'])\n",
    "num_films = list(df['count'])\n",
    "figure = sns.barplot(x=years, y=num_films, palette=sns.color_palette('bright')[0:1])\n",
    "figure.set_title('Animated Movies Released in the U.S. from 2000 to 2020')\n",
    "figure.set_xticklabels(figure.get_xticklabels(), rotation=45, horizontalalignment='right')\n",
    "figure.set_ylabel('Number of Films Released')\n",
    "\n",
    "for c in figure.patches:\n",
    "    c.set_zorder(0)\n",
    "sns.regplot(x=np.arange(0, len(years)), y=num_films, ax=figure)\n",
    "\n",
    "from scipy.stats import linregress\n",
    "rvalue = mpatches.Patch(label=f'R: {linregress(years,num_films)[2].__round__(2)}')\n",
    "plt.legend(handles=[rvalue])\n",
    "plt.show()"
   ]
  },
  {
   "cell_type": "markdown",
   "id": "6dee634c-18d0-40ec-ae23-7888afff7b61",
   "metadata": {},
   "source": [
    "### Action Movies in the Last 10 Years Compared to Total Amount of Movies Released"
   ]
  },
  {
   "cell_type": "code",
   "execution_count": null,
   "id": "826cde5d-58ce-4564-98cf-f728f035a880",
   "metadata": {},
   "outputs": [],
   "source": [
    "df = pd.read_sql_query(f\"\"\"\n",
    "    SELECT year, count(year) FROM public.films\n",
    "    INNER JOIN genres ON genreid = id\n",
    "    WHERE genre = 'action' and country = 'usa' and rating > 0 and year BETWEEN 2010 and 2020\n",
    "    GROUP BY year\n",
    "    UNION ALL\n",
    "    SELECT year, count(year) FROM public.films\n",
    "    WHERE country = 'usa' and rating > 0 and year BETWEEN 2010 and 2020\n",
    "    GROUP BY year\n",
    "    \"\"\", engine)\n",
    "display(df)"
   ]
  },
  {
   "cell_type": "code",
   "execution_count": null,
   "id": "e98c7515-478e-452b-9d09-25f2b52ed663",
   "metadata": {},
   "outputs": [],
   "source": [
    "fig_df = pd.DataFrame({\"Action Films\": list(df['count'][0:11]), \n",
    "                       \"All Films\": list(df['count'][11:22]),\n",
    "                       \"Year\": list(df['year'][0:11])})\n",
    "s1 = sns.barplot(x = 'Year', y = 'All Films', data = fig_df, color=sns.color_palette('bright')[0], label = 'All Films')\n",
    "s2 = sns.barplot(x = 'Year', y = 'Action Films', data = fig_df, color=sns.color_palette('bright')[1], label = 'Action Films')\n",
    "s1.set_title('Action Movies vs Total Movies Released from 2010 to 2020')\n",
    "s1.set_ylabel('Number of Films Released')\n",
    "color1 = mpatches.Patch(color=sns.color_palette('bright')[0], label='All Films')\n",
    "color2 = mpatches.Patch(color=sns.color_palette('bright')[1], label='Action Films')\n",
    "plt.legend(handles=[color1, color2])"
   ]
  },
  {
   "cell_type": "markdown",
   "id": "54d8d493-d392-49f5-82f9-1e5a683329aa",
   "metadata": {},
   "source": [
    "### Animated Movies in the Last 10 Years Compared to Total Amount of Movies Released"
   ]
  },
  {
   "cell_type": "code",
   "execution_count": null,
   "id": "106c5c2c-7142-4abf-9612-de4843d43309",
   "metadata": {},
   "outputs": [],
   "source": [
    "df = pd.read_sql_query(f\"\"\"\n",
    "    SELECT year, count(year) FROM public.films\n",
    "    INNER JOIN genres ON genreid = id\n",
    "    WHERE genre = 'animation' and country = 'usa' and rating > 0 and year BETWEEN 2010 and 2020\n",
    "    GROUP BY year\n",
    "    UNION ALL\n",
    "    SELECT year, count(year) FROM public.films\n",
    "    WHERE country = 'usa' and rating > 0 and year BETWEEN 2010 and 2020\n",
    "    GROUP BY year\"\"\"\n",
    "                       , engine)\n",
    "\n",
    "display(df)"
   ]
  },
  {
   "cell_type": "code",
   "execution_count": null,
   "id": "70bb47ac-3526-409b-9b1d-0f97d66e7206",
   "metadata": {},
   "outputs": [],
   "source": [
    "import matplotlib.patches as mpatches\n",
    "\n",
    "fig_df = pd.DataFrame({\"Animated Films\": list(df['count'][0:11]), \n",
    "                       \"All Films\": list(df['count'][11:22]),\n",
    "                       \"Year\": list(df['year'][0:11])})\n",
    "s1 = sns.barplot(x = 'Year', y = 'All Films', data = fig_df, color=sns.color_palette('bright')[0], label = 'All Films')\n",
    "s2 = sns.barplot(x = 'Year', y = 'Animated Films', data = fig_df, color=sns.color_palette('bright')[1], label = 'Action Films')\n",
    "s1.set_title('Animated Movies vs Total Movies Released from 2010 to 2020')\n",
    "s1.set_ylabel('Number of Films Released')\n",
    "color1 = mpatches.Patch(color=sns.color_palette('bright')[0], label='All Films')\n",
    "color2 = mpatches.Patch(color=sns.color_palette('bright')[1], label='Animated Films')\n",
    "plt.legend(handles=[color1, color2])"
   ]
  },
  {
   "cell_type": "markdown",
   "id": "cf69811f-0d99-4630-99e6-1d343f75c6ed",
   "metadata": {},
   "source": [
    "### Average Ratings by Genre (MultiLine Plot)"
   ]
  },
  {
   "cell_type": "code",
   "execution_count": null,
   "id": "e5a8b945-98b7-4957-8998-628e909b3618",
   "metadata": {},
   "outputs": [],
   "source": [
    "genre_list = ['action', 'adventure', 'animation', 'comedy', 'crime', 'documentary', 'drama',\n",
    "              'family', 'fantasy', 'history', 'horror', 'music', 'mystery', 'romance',\n",
    "              'science-fiction', 'thriller', 'tv-movie', 'war', 'western']\n",
    "year1 = 2010\n",
    "year2 = 2020\n",
    "all_df = pd.DataFrame({'year': range(year1, year2+1)})\n",
    "for genre in genre_list:\n",
    "    query_df = pd.read_sql_query(f\"\"\"\n",
    "        SELECT year, AVG(rating) FROM public.films\n",
    "        INNER JOIN genres ON genreid = id\n",
    "        WHERE genre = '{genre}' and country = 'usa' and rating > 0 and year BETWEEN {year1} and {year2}\n",
    "        GROUP BY year\"\"\"\n",
    "                           , engine)\n",
    "    query_df.rename(columns = {'avg': genre}, inplace = True)\n",
    "    all_df = all_df.merge(query_df, how='left', on='year')\n",
    "    \n",
    "display(all_df)"
   ]
  },
  {
   "cell_type": "code",
   "execution_count": null,
   "id": "5e6a8939-5c23-45f1-9a81-b8e1d98e5faa",
   "metadata": {},
   "outputs": [],
   "source": [
    "# While this may work, the data is a mess when presented in this format on one figure\n",
    "# An interactable figure where the user may choose which genres to display would be more appropriate for displaying this type of data\n",
    "# I could also probably use the genre_list and the SQL data to construct this DataFrame in a loop...\n",
    "data = pd.DataFrame({\n",
    "    'Year': range(year1, year2+1), \n",
    "    'action': list(all_df[f'action']),\n",
    "    'adventure': list(all_df[f'adventure']),\n",
    "    'animation': list(all_df[f'animation']),\n",
    "    'comedy': list(all_df[f'comedy']),\n",
    "    'crime': list(all_df[f'crime']),\n",
    "    'documentary': list(all_df[f'documentary']),\n",
    "    'drama': list(all_df[f'drama']),\n",
    "    'family': list(all_df[f'family']),\n",
    "    'fantasy': list(all_df[f'fantasy']),\n",
    "    'history': list(all_df[f'history']),\n",
    "    'horror': list(all_df[f'horror']),\n",
    "    'music': list(all_df[f'music']),\n",
    "    'mystery': list(all_df[f'mystery']),\n",
    "    'romance': list(all_df[f'romance']),\n",
    "    'science-fiction': list(all_df[f'science-fiction']),\n",
    "    'thriller': list(all_df[f'thriller']),\n",
    "    'tv-movie': list(all_df[f'tv-movie']),\n",
    "    'war': list(all_df[f'war']),\n",
    "    'western': list(all_df[f'western'])})\n",
    "\n",
    "fig = sns.lineplot(x='Year', y='value', hue='variable', data=pd.melt(data, ['Year']))\n",
    "fig.set_ylabel('Average Rating')\n",
    "sns.move_legend(fig, \"upper left\", bbox_to_anchor=(1, 1))"
   ]
  },
  {
   "cell_type": "markdown",
   "id": "55592ebd-b62b-4d9a-aad5-922997d83fd6",
   "metadata": {},
   "source": [
    "### Movies made in the United States but not in English"
   ]
  },
  {
   "cell_type": "code",
   "execution_count": null,
   "id": "08f877a3-99ef-48e4-b8bf-7f10d3f306de",
   "metadata": {},
   "outputs": [],
   "source": [
    "df = pd.read_sql_query(f\"\"\"\n",
    "    SELECT language, count(language) FROM public.films\n",
    "    WHERE country = 'usa' and rating > 0 and language != 'english' and language != 'no-spoken-language'\n",
    "    GROUP BY language\n",
    "    ORDER BY count(language) desc\"\"\"\n",
    "                       , engine)\n",
    "\n",
    "display(df)"
   ]
  },
  {
   "cell_type": "code",
   "execution_count": null,
   "id": "ab295adb-5d6a-4a57-b117-2f0dcbbd7e0c",
   "metadata": {},
   "outputs": [],
   "source": [
    "language = list(df['language'])\n",
    "num_films = list(df['count'])\n",
    "figure = sns.barplot(x=language, y=num_films)\n",
    "figure.set_title('Non-English Movies Made in the United States')\n",
    "figure.set_xticklabels(figure.get_xticklabels(), rotation=60, horizontalalignment='right')\n",
    "figure.set_ylabel('Number of Films Released')\n",
    "plt.show()\n",
    "\n",
    "# This is kinda messy, let's only take the top 20!"
   ]
  },
  {
   "cell_type": "code",
   "execution_count": null,
   "id": "67a4ddf4-8b7d-420c-a12c-e0594b9b2c1b",
   "metadata": {},
   "outputs": [],
   "source": [
    "df = pd.read_sql_query(f\"\"\"\n",
    "    SELECT language, count(language) FROM public.films\n",
    "    WHERE country = 'usa' and rating > 0 and language != 'english' and language != 'no-spoken-language'\n",
    "    GROUP BY language\n",
    "    ORDER BY count(language) desc\n",
    "    LIMIT 20\n",
    "    \"\"\", engine)\n",
    "display(df)"
   ]
  },
  {
   "cell_type": "code",
   "execution_count": null,
   "id": "cf4da9ad-9f73-4b64-8483-0a1a515fba2d",
   "metadata": {},
   "outputs": [],
   "source": [
    "language = list(df['language'])\n",
    "num_films = list(df['count'])\n",
    "figure = sns.barplot(x=language, y=num_films)\n",
    "figure.set_title('Non-English Movies Made in the United States')\n",
    "figure.set_xticklabels(figure.get_xticklabels(), rotation=45, horizontalalignment='right')\n",
    "figure.set_ylabel('Number of Films Released')\n",
    "plt.show()\n",
    "\n",
    "# This is much more readable now."
   ]
  },
  {
   "cell_type": "code",
   "execution_count": null,
   "id": "b0c21cc2-02a2-4188-9812-bdd833495c5e",
   "metadata": {},
   "outputs": [],
   "source": [
    "# Closes connections to postgresql database\n",
    "pgconn.close()\n",
    "engine.dispose()"
   ]
  }
 ],
 "metadata": {
  "kernelspec": {
   "display_name": "Python 3",
   "language": "python",
   "name": "python3"
  },
  "language_info": {
   "codemirror_mode": {
    "name": "ipython",
    "version": 3
   },
   "file_extension": ".py",
   "mimetype": "text/x-python",
   "name": "python",
   "nbconvert_exporter": "python",
   "pygments_lexer": "ipython3",
   "version": "3.9.5"
  }
 },
 "nbformat": 4,
 "nbformat_minor": 5
}
